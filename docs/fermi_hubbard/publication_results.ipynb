{
 "cells": [
  {
   "cell_type": "markdown",
   "metadata": {},
   "source": [
    "# Fermi-Hubbard Spin-Charge Separation Results"
   ]
  },
  {
   "cell_type": "markdown",
   "metadata": {},
   "source": [
    "This notebook presents the experimental data which was collected on Google Rainbow processor for the purpose of Fermi-Hubbard spin-charge separation experiment."
   ]
  },
  {
   "cell_type": "markdown",
   "metadata": {},
   "source": [
    "**NOTE**\n",
    "\n",
    "\n",
    "In order to run this notebook the data sets ```gaussians_1u1d.zip```, ```trapping_2u2d.zip``` and ```trapping_3u3d.zip``` needs to be downloaded from [https://doi.org/10.5061/dryad.crjdfn32v](\n",
    "  https://doi.org/10.5061/dryad.crjdfn32v) and extracted to ```fermi_hubbard_data``` directory."
   ]
  },
  {
   "cell_type": "code",
   "execution_count": null,
   "metadata": {},
   "outputs": [],
   "source": [
    "import glob\n",
    "from tqdm.notebook import tqdm\n",
    "\n",
    "from recirq.fermi_hubbard import (\n",
    "    InstanceBundle,\n",
    "    apply_rescalings_to_bundles,\n",
    "    find_bundles_rescalings,\n",
    "    load_experiment,\n",
    "    plot_quantity\n",
    ")\n",
    "from recirq.fermi_hubbard.publication import (\n",
    "    parasitic_cphase_compensation\n",
    ")\n",
    "\n",
    "# Hide numpy warnings\n",
    "import warnings\n",
    "warnings.filterwarnings('ignore')\n",
    "\n",
    "data_dir = 'fermi_hubbard_data'"
   ]
  },
  {
   "cell_type": "markdown",
   "metadata": {},
   "source": [
    "## Noninteracting Gaussians"
   ]
  },
  {
   "cell_type": "code",
   "execution_count": null,
   "metadata": {},
   "outputs": [],
   "source": [
    "# Load results and create a bundle with extracted quantities.\n",
    "gaussians_1u1d_files = glob.glob(f'{data_dir}/gaussians_1u1d/0.0/*.json')\n",
    "gaussians_bundle = InstanceBundle(\n",
    "    experiments=[load_experiment(file) for file in gaussians_1u1d_files],\n",
    "    steps=range(65),\n",
    "    rescale_steps=range(65))"
   ]
  },
  {
   "cell_type": "code",
   "execution_count": null,
   "metadata": {},
   "outputs": [],
   "source": [
    "# Simulate the exact numerical results that are used as a reference.\n",
    "with tqdm(range(len(gaussians_bundle.steps))) as progress:\n",
    "    def post_run(_1, _2):\n",
    "        progress.update()\n",
    "    gaussians_bundle.cache_exact_numerics(post_run_func=post_run)"
   ]
  },
  {
   "cell_type": "code",
   "execution_count": null,
   "metadata": {},
   "outputs": [],
   "source": [
    "plot_quantity(gaussians_bundle, 'post_selection', show_std_dev=True);"
   ]
  },
  {
   "cell_type": "code",
   "execution_count": null,
   "metadata": {},
   "outputs": [],
   "source": [
    "plot_quantity(gaussians_bundle, 'scaling', show_std_error=True);"
   ]
  },
  {
   "cell_type": "code",
   "execution_count": null,
   "metadata": {},
   "outputs": [],
   "source": [
    "# The data for this quantity can be viewed after double-clicking this cell output.\n",
    "plot_quantity(gaussians_bundle, 'up_down_density', show_std_error=True);"
   ]
  },
  {
   "cell_type": "code",
   "execution_count": null,
   "metadata": {},
   "outputs": [],
   "source": [
    "plot_quantity(gaussians_bundle, 'up_down_position_average', show_std_error=True);"
   ]
  },
  {
   "cell_type": "code",
   "execution_count": null,
   "metadata": {},
   "outputs": [],
   "source": [
    "plot_quantity(gaussians_bundle, 'up_down_position_average_dt', show_std_error=True);"
   ]
  },
  {
   "cell_type": "markdown",
   "metadata": {},
   "source": [
    "## Trapping Potential N=4"
   ]
  },
  {
   "cell_type": "code",
   "execution_count": null,
   "metadata": {},
   "outputs": [],
   "source": [
    "# Load results and create a bundles with extracted quantities for each\n",
    "# interaction strength.\n",
    "trapping_2u2d_files = [\n",
    "    glob.glob(f'{data_dir}/trapping_2u2d/{u}/*.json')\n",
    "    for u in [0.0, 1.0, 1.5, 2.0, 2.5, 3.0, 3.5, 4.0, 4.5, 5.0]]\n",
    "trapping_2u2d_bundles = [InstanceBundle(\n",
    "    experiments=[load_experiment(file) for file in files],\n",
    "    numerics_transform=parasitic_cphase_compensation(0.138),\n",
    "    steps=range(11),\n",
    "    rescale_steps=range(11)) for files in trapping_2u2d_files]"
   ]
  },
  {
   "cell_type": "code",
   "execution_count": null,
   "metadata": {},
   "outputs": [],
   "source": [
    "# Simulate the exact numerical results that are used as a reference.\n",
    "total_steps = sum(len(bundle.steps) for bundle in trapping_2u2d_bundles)\n",
    "with tqdm(range(total_steps)) as progress:\n",
    "    def post_run(_1, _2):\n",
    "        progress.update()\n",
    "    for bundle in trapping_2u2d_bundles:\n",
    "        bundle.cache_exact_numerics(post_run_func=post_run)"
   ]
  },
  {
   "cell_type": "code",
   "execution_count": null,
   "metadata": {},
   "outputs": [],
   "source": [
    "# Use shared rescaling values among compatible problem instances.\n",
    "apply_rescalings_to_bundles(find_bundles_rescalings(trapping_2u2d_bundles))"
   ]
  },
  {
   "cell_type": "code",
   "execution_count": null,
   "metadata": {},
   "outputs": [],
   "source": [
    "plot_quantity(trapping_2u2d_bundles, 'post_selection', show_std_dev=True);"
   ]
  },
  {
   "cell_type": "code",
   "execution_count": null,
   "metadata": {},
   "outputs": [],
   "source": [
    "plot_quantity(trapping_2u2d_bundles, 'scaling', show_std_error=True);"
   ]
  },
  {
   "cell_type": "code",
   "execution_count": null,
   "metadata": {},
   "outputs": [],
   "source": [
    "plot_quantity(trapping_2u2d_bundles, 'charge_spin_density', show_std_error=True);"
   ]
  },
  {
   "cell_type": "code",
   "execution_count": null,
   "metadata": {},
   "outputs": [],
   "source": [
    "plot_quantity(trapping_2u2d_bundles, 'charge_spin_spreading', show_std_error=True);"
   ]
  },
  {
   "cell_type": "code",
   "execution_count": null,
   "metadata": {},
   "outputs": [],
   "source": [
    "plot_quantity(trapping_2u2d_bundles, 'charge_spin_spreading_dt', show_std_error=True);"
   ]
  },
  {
   "cell_type": "markdown",
   "metadata": {},
   "source": [
    "## Trapping Potential N=6"
   ]
  },
  {
   "cell_type": "code",
   "execution_count": null,
   "metadata": {},
   "outputs": [],
   "source": [
    "# Load results and create a bundles with extracted quantities for each \n",
    "# interaction strength.\n",
    "trapping_3u3d_files = [\n",
    "    glob.glob(f'{data_dir}/trapping_3u3d/{u}/*.json')\n",
    "    for u in [0.0, 1.0, 1.5, 2.0, 2.5, 3.0, 3.5, 4.0, 4.5, 5.0]]\n",
    "trapping_3u3d_bundles = [InstanceBundle(\n",
    "    experiments=[load_experiment(file) for file in files],\n",
    "    numerics_transform=parasitic_cphase_compensation(0.138),\n",
    "    steps=range(11),\n",
    "    rescale_steps=range(11)) for files in trapping_3u3d_files]"
   ]
  },
  {
   "cell_type": "code",
   "execution_count": null,
   "metadata": {},
   "outputs": [],
   "source": [
    "# Simulate the exact numerical results that are used as a reference.\n",
    "total_steps = sum(len(bundle.steps) for bundle in trapping_3u3d_bundles)\n",
    "with tqdm(range(total_steps)) as progress:\n",
    "    def post_run(_1, _2):\n",
    "        progress.update()\n",
    "    for bundle in trapping_3u3d_bundles:\n",
    "        bundle.cache_exact_numerics(post_run_func=post_run)"
   ]
  },
  {
   "cell_type": "code",
   "execution_count": null,
   "metadata": {},
   "outputs": [],
   "source": [
    "# Use shared rescaling values among compatible problem instances.\n",
    "apply_rescalings_to_bundles(find_bundles_rescalings(trapping_3u3d_bundles))"
   ]
  },
  {
   "cell_type": "code",
   "execution_count": null,
   "metadata": {},
   "outputs": [],
   "source": [
    "plot_quantity(trapping_3u3d_bundles, 'post_selection', show_std_dev=True);"
   ]
  },
  {
   "cell_type": "code",
   "execution_count": null,
   "metadata": {},
   "outputs": [],
   "source": [
    "plot_quantity(trapping_3u3d_bundles, 'scaling', show_std_error=True);"
   ]
  },
  {
   "cell_type": "code",
   "execution_count": null,
   "metadata": {},
   "outputs": [],
   "source": [
    "plot_quantity(trapping_3u3d_bundles, 'charge_spin_density', show_std_error=True);"
   ]
  },
  {
   "cell_type": "code",
   "execution_count": null,
   "metadata": {},
   "outputs": [],
   "source": [
    "plot_quantity(trapping_3u3d_bundles, 'charge_spin_spreading', show_std_error=True);"
   ]
  },
  {
   "cell_type": "code",
   "execution_count": null,
   "metadata": {},
   "outputs": [],
   "source": [
    "plot_quantity(trapping_3u3d_bundles, 'charge_spin_spreading_dt', show_std_error=True);"
   ]
  }
 ],
 "metadata": {
  "kernelspec": {
   "display_name": "Python 3",
   "language": "python",
   "name": "python3"
  },
  "language_info": {
   "codemirror_mode": {
    "name": "ipython",
    "version": 3
   },
   "file_extension": ".py",
   "mimetype": "text/x-python",
   "name": "python",
   "nbconvert_exporter": "python",
   "pygments_lexer": "ipython3",
   "version": "3.8.5"
  }
 },
 "nbformat": 4,
 "nbformat_minor": 4
}
