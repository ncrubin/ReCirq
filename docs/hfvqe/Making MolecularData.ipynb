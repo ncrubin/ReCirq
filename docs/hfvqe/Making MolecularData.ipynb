{
 "cells": [
  {
   "cell_type": "markdown",
   "metadata": {},
   "source": [
    "# Making Molecule Files for HFVQE\n",
    "\n",
    "In this tutorial we describe the process of making the molecular data files necessary to run the HFVQE code.  We focus on how to use the OpenFermion plugin modules to generate molecular files with canonical Hartree-Fock and generate integrals in a given atomic orbital basis set.  We also provide helper functions to run variational Hartree-Fock simulating the experiment and generating initial parameters.\n",
    "\n",
    "This tutorial will follow the code in the `hfvqe/molecular_data` module of Recirq for constructing MolecularData objects and getting atomic orbital integrals.\n",
    "\n",
    "To run this notebook you will need to have OpenFermion-pyscf, pyscf, scipy, numpy, and matplotlib installed."
   ]
  },
  {
   "cell_type": "code",
   "execution_count": 122,
   "metadata": {},
   "outputs": [],
   "source": [
    "# PRELIMINARY IMPORTS AND HELPER FUNCTION\n",
    "import os\n",
    "import numpy\n",
    "import scipy\n",
    "\n",
    "from openfermion.ops import general_basis_change\n",
    "\n",
    "from recirq.hfvqe.molecular_data.molecular_data_construction import (h6_linear_molecule, \n",
    "                                                                     h8_linear_molecule, \n",
    "                                                                     h10_linear_molecule,\n",
    "                                                                     h12_linear_molecule, \n",
    "                                                                     get_ao_integrals)\n",
    "from recirq.hfvqe.gradient_hf import rhf_minimization, rhf_func_generator\n",
    "from recirq.hfvqe.objective import RestrictedHartreeFockObjective, generate_hamiltonian\n",
    "\n",
    "\n",
    "def make_rhf_objective(molecule):\n",
    "    # coverage: ignore\n",
    "    S, Hcore, TEI = get_ao_integrals(molecule)\n",
    "    _, X = scipy.linalg.eigh(Hcore, S)\n",
    "\n",
    "    molecular_hamiltonian = generate_hamiltonian(\n",
    "        general_basis_change(Hcore, X, (1, 0)),\n",
    "        numpy.einsum('psqr', general_basis_change(TEI, X, (1, 0, 1, 0)),\n",
    "                     molecule.nuclear_repulsion))\n",
    "\n",
    "    rhf_objective = RestrictedHartreeFockObjective(molecular_hamiltonian,\n",
    "                                                   molecule.n_electrons)\n",
    "    return rhf_objective, S, Hcore, TEI"
   ]
  },
  {
   "cell_type": "markdown",
   "metadata": {},
   "source": [
    "## Hydrogen Chain MolecularData\n",
    "\n",
    "We provide helper functions in the `hfvqe` module to generate the Hydrogen chain data.  Each chain is constructed using OpenFermion and Psi4 via the OpenFermion-Psi4 plugin.  We will use creating H6 with equal spacing between Hydrogen atoms as an example.  "
   ]
  },
  {
   "cell_type": "code",
   "execution_count": 123,
   "metadata": {},
   "outputs": [],
   "source": [
    "from openfermion import MolecularData, general_basis_change\n",
    "from openfermionpyscf import run_pyscf\n",
    "import numpy as np\n",
    "import scipy as sp"
   ]
  },
  {
   "cell_type": "code",
   "execution_count": 124,
   "metadata": {},
   "outputs": [],
   "source": [
    "n_hydrogens = 6\n",
    "bond_distance = 1.3 # in Angstroms\n",
    "molecule = MolecularData(\n",
    "    geometry=[('H', (0, 0, i * bond_distance)) for i in range(n_hydrogens)],\n",
    "    charge=0,\n",
    "    basis='6-31g',\n",
    "    multiplicity=1,\n",
    "    description=f\"linear_r-{bond_distance}\")"
   ]
  },
  {
   "cell_type": "markdown",
   "metadata": {},
   "source": [
    "The previous lines set up the MolecularData file.  We can now use pyscf to either run a full self-consistent-field Hartree-Fock calculation or get atomic integrals.  Via Openfermion-Pyscf we provide an interface to running Hartree-Fock, coupled-cluster, second order perturbation theory, configuration-interaction singles-doubles, and full configuration interaction.  Many of these methods depend on parameters such as convergence criteria or initial vectors in the subspace expansion.  `run_pyscf` assumes common defaults which are appropriate for most systems. Below we will run default Hartree-Fock and CISD."
   ]
  },
  {
   "cell_type": "code",
   "execution_count": 125,
   "metadata": {},
   "outputs": [],
   "source": [
    "molecule = run_pyscf(molecule, run_scf=True, run_cisd=True)"
   ]
  },
  {
   "cell_type": "code",
   "execution_count": 127,
   "metadata": {},
   "outputs": [
    {
     "name": "stdout",
     "output_type": "stream",
     "text": [
      "-3.102591009910493 -3.222103463829712\n"
     ]
    }
   ],
   "source": [
    "print(molecule.hf_energy, molecule.cisd_energy)  #hartree-Fock energy, CISD energy"
   ]
  },
  {
   "cell_type": "markdown",
   "metadata": {},
   "source": [
    "The `MolecularData` file holds almost all information that is required for post-Hartree-Fock correlated calculations.  For example, we provide access to integrals as attributes of `MolecularData`.  "
   ]
  },
  {
   "cell_type": "code",
   "execution_count": 128,
   "metadata": {},
   "outputs": [
    {
     "name": "stdout",
     "output_type": "stream",
     "text": [
      "Overlap Ints\n",
      "[[1.00000000e+00 6.58292049e-01 1.07450262e-01 2.97950190e-01\n",
      "  2.92936786e-04 2.79155456e-02 1.86658314e-08 5.52805483e-04\n",
      "  2.50532789e-14 2.34306448e-06 7.06186034e-22 2.12361769e-09]\n",
      " [6.58292049e-01 1.00000000e+00 2.97950190e-01 6.14673658e-01\n",
      "  2.79155456e-02 1.42750753e-01 5.52805483e-04 1.25256830e-02\n",
      "  2.34306448e-06 4.15253811e-04 2.12361769e-09 5.20133758e-06]\n",
      " [1.07450262e-01 2.97950190e-01 1.00000000e+00 6.58292049e-01\n",
      "  1.07450262e-01 2.97950190e-01 2.92936786e-04 2.79155456e-02\n",
      "  1.86658314e-08 5.52805483e-04 2.50532789e-14 2.34306448e-06]\n",
      " [2.97950190e-01 6.14673658e-01 6.58292049e-01 1.00000000e+00\n",
      "  2.97950190e-01 6.14673658e-01 2.79155456e-02 1.42750753e-01\n",
      "  5.52805483e-04 1.25256830e-02 2.34306448e-06 4.15253811e-04]\n",
      " [2.92936786e-04 2.79155456e-02 1.07450262e-01 2.97950190e-01\n",
      "  1.00000000e+00 6.58292049e-01 1.07450262e-01 2.97950190e-01\n",
      "  2.92936786e-04 2.79155456e-02 1.86658314e-08 5.52805483e-04]\n",
      " [2.79155456e-02 1.42750753e-01 2.97950190e-01 6.14673658e-01\n",
      "  6.58292049e-01 1.00000000e+00 2.97950190e-01 6.14673658e-01\n",
      "  2.79155456e-02 1.42750753e-01 5.52805483e-04 1.25256830e-02]\n",
      " [1.86658314e-08 5.52805483e-04 2.92936786e-04 2.79155456e-02\n",
      "  1.07450262e-01 2.97950190e-01 1.00000000e+00 6.58292049e-01\n",
      "  1.07450262e-01 2.97950190e-01 2.92936786e-04 2.79155456e-02]\n",
      " [5.52805483e-04 1.25256830e-02 2.79155456e-02 1.42750753e-01\n",
      "  2.97950190e-01 6.14673658e-01 6.58292049e-01 1.00000000e+00\n",
      "  2.97950190e-01 6.14673658e-01 2.79155456e-02 1.42750753e-01]\n",
      " [2.50532789e-14 2.34306448e-06 1.86658314e-08 5.52805483e-04\n",
      "  2.92936786e-04 2.79155456e-02 1.07450262e-01 2.97950190e-01\n",
      "  1.00000000e+00 6.58292049e-01 1.07450262e-01 2.97950190e-01]\n",
      " [2.34306448e-06 4.15253811e-04 5.52805483e-04 1.25256830e-02\n",
      "  2.79155456e-02 1.42750753e-01 2.97950190e-01 6.14673658e-01\n",
      "  6.58292049e-01 1.00000000e+00 2.97950190e-01 6.14673658e-01]\n",
      " [7.06186034e-22 2.12361769e-09 2.50532789e-14 2.34306448e-06\n",
      "  1.86658314e-08 5.52805483e-04 2.92936786e-04 2.79155456e-02\n",
      "  1.07450262e-01 2.97950190e-01 1.00000000e+00 6.58292049e-01]\n",
      " [2.12361769e-09 5.20133758e-06 2.34306448e-06 4.15253811e-04\n",
      "  5.52805483e-04 1.25256830e-02 2.79155456e-02 1.42750753e-01\n",
      "  2.97950190e-01 6.14673658e-01 6.58292049e-01 1.00000000e+00]]\n",
      "\n",
      "One-electron integrals\n",
      "[[-1.87432473e+00 -1.04387332e-15 -1.16409397e-01  8.92719031e-16\n",
      "  -6.15079850e-02  5.64296790e-16 -1.25731117e-01 -1.24763371e-15\n",
      "  -5.89300819e-02 -1.46224258e-16  2.71519013e-03 -7.06223980e-16]\n",
      " [-1.18650828e-15 -1.69304317e+00 -2.91895510e-16 -1.65551634e-01\n",
      "   1.02277616e-16  4.41325654e-02  2.13638452e-15 -1.00494695e-01\n",
      "  -4.81325561e-15  8.00967125e-02 -1.41605259e-15  6.99099285e-03]\n",
      " [-1.16409397e-01 -1.77265232e-16 -1.61481611e+00  1.97821568e-16\n",
      "   1.42975424e-01 -9.04862105e-16  1.99561985e-02  1.13630860e-15\n",
      "  -9.93297282e-02 -4.36044349e-15 -8.38903468e-02  1.81807366e-15]\n",
      " [ 7.35593837e-16 -1.65551634e-01  2.48908542e-16 -1.47182278e+00\n",
      "   3.41029556e-16 -1.55554532e-01 -1.46797386e-15  6.81485313e-02\n",
      "  -2.85457768e-15  1.47405321e-01 -6.31045753e-15 -4.83500512e-02]\n",
      " [-6.15079850e-02 -1.28186273e-16  1.42975424e-01  3.07483932e-16\n",
      "  -1.29158630e+00 -1.58743514e-15  5.71950545e-02  4.95828103e-15\n",
      "  -1.32456629e-01  1.46524593e-15  1.56350374e-01 -4.16227756e-15]\n",
      " [-7.60378246e-17  4.41325654e-02 -1.04955185e-15 -1.55554532e-01\n",
      "  -1.40558402e-15 -1.24806929e+00  1.58528814e-16 -1.25035349e-01\n",
      "   1.90040638e-15 -1.02022892e-01 -3.17295738e-15 -2.06045664e-01]\n",
      " [-1.25731117e-01  2.31413256e-15  1.99561985e-02 -1.51632329e-15\n",
      "   5.71950545e-02  1.23700137e-17 -5.80093413e-01 -3.91452049e-16\n",
      "  -1.60790101e-01 -6.50955742e-15 -2.49740558e-02  8.95701490e-16]\n",
      " [-1.17235436e-15 -1.00494695e-01  1.41869627e-15  6.81485313e-02\n",
      "   4.91974037e-15 -1.25035349e-01 -5.80306094e-16 -4.13964912e-01\n",
      "  -4.64885201e-15  9.28607464e-02 -5.49272337e-15 -4.59666892e-02]\n",
      " [-5.89300819e-02 -4.74411350e-15 -9.93297282e-02 -2.98357899e-15\n",
      "  -1.32456629e-01  1.79180458e-15 -1.60790101e-01 -4.53433799e-15\n",
      "  -4.68339016e-01  3.77946691e-15 -3.67277351e-02 -1.07776692e-15]\n",
      " [-1.08857116e-16  8.00967125e-02 -4.29409666e-15  1.47405321e-01\n",
      "   1.38603667e-15 -1.02022892e-01 -6.28801435e-15  9.28607464e-02\n",
      "   4.00512287e-15 -5.21989682e-01 -4.42846513e-16  3.96032256e-02]\n",
      " [ 2.71519013e-03 -1.81747002e-15 -8.38903468e-02 -6.19034249e-15\n",
      "   1.56350374e-01 -2.92960851e-15 -2.49740558e-02 -5.63012711e-15\n",
      "  -3.67277351e-02 -6.97164268e-16 -5.04870294e-01 -1.72955227e-15]\n",
      " [ 1.95685220e-16  6.99099285e-03  2.01646194e-15 -4.83500512e-02\n",
      "  -4.21974979e-15 -2.06045664e-01  8.52717609e-16 -4.59666892e-02\n",
      "  -1.02209585e-15  3.96032256e-02 -9.73491733e-16 -4.15306261e-01]]\n"
     ]
    }
   ],
   "source": [
    "print(\"Overlap Ints\")\n",
    "print(molecule.overlap_integrals)\n",
    "\n",
    "print()\n",
    "print(\"One-electron integrals\")\n",
    "print(molecule.one_body_integrals)"
   ]
  },
  {
   "cell_type": "markdown",
   "metadata": {},
   "source": [
    "For the Hartree-Fock experiment we will need to get the atomic basis integrals from the molecular integrals.  We can use the identity $C^{\\dagger}SC = I$ to reverse the transformation on the one and two electron integrals."
   ]
  },
  {
   "cell_type": "code",
   "execution_count": 106,
   "metadata": {},
   "outputs": [],
   "source": [
    "oei_mo,  tei_mo = molecule.one_body_integrals, molecule.two_body_integrals\n",
    "C = molecule.canonical_orbitals\n",
    "S = molecule.overlap_integrals\n",
    "oei_ao = general_basis_change(oei_mo, C.conj().T @ S, key=(1, 0))"
   ]
  },
  {
   "cell_type": "code",
   "execution_count": 107,
   "metadata": {},
   "outputs": [
    {
     "name": "stdout",
     "output_type": "stream",
     "text": [
      "[[-1.18698197e+00 -1.09398249e+00 -2.90382070e-01 -5.73478152e-01\n",
      "  -1.91588194e-03 -7.08618226e-02 -2.34028697e-07 -1.97458486e-03\n",
      "  -5.37597744e-13 -1.18105831e-05  2.22044605e-16 -1.46391008e-08]\n",
      " [-1.09398249e+00 -1.30863711e+00 -6.31325886e-01 -9.69723130e-01\n",
      "  -7.72940958e-02 -2.75295274e-01 -2.08668247e-03 -2.98813560e-02\n",
      "  -1.21151858e-05 -1.23417943e-03 -1.46391012e-08 -1.91822048e-05]\n",
      " [-2.90382070e-01 -6.31325886e-01 -1.51260669e+00 -1.30790890e+00\n",
      "  -3.09964749e-01 -6.50637018e-01 -1.94571033e-03 -7.66467737e-02\n",
      "  -2.34897054e-07 -2.06566594e-03 -5.37958567e-13 -1.21151858e-05]\n",
      " [-5.73478152e-01 -9.69723130e-01 -1.30790890e+00 -1.61455088e+00\n",
      "  -6.69270617e-01 -1.08041337e+00 -7.82781452e-02 -2.89819977e-01\n",
      "  -2.06566594e-03 -3.04640626e-02 -1.18105831e-05 -1.23417943e-03]\n",
      " [-1.91588194e-03 -7.72940958e-02 -3.09964749e-01 -6.69270617e-01\n",
      "  -1.61437154e+00 -1.37489989e+00 -3.14983314e-01 -6.74320764e-01\n",
      "  -1.94571033e-03 -7.82781452e-02 -2.34028697e-07 -2.08668247e-03]\n",
      " [-7.08618226e-02 -2.75295274e-01 -6.50637018e-01 -1.08041337e+00\n",
      "  -1.37489989e+00 -1.71629957e+00 -6.74320764e-01 -1.10900856e+00\n",
      "  -7.66467737e-02 -2.89819977e-01 -1.97458486e-03 -2.98813560e-02]\n",
      " [-2.34028697e-07 -2.08668247e-03 -1.94571033e-03 -7.82781452e-02\n",
      "  -3.14983314e-01 -6.74320764e-01 -1.61437154e+00 -1.37489989e+00\n",
      "  -3.09964749e-01 -6.69270617e-01 -1.91588194e-03 -7.72940958e-02]\n",
      " [-1.97458486e-03 -2.98813560e-02 -7.66467737e-02 -2.89819977e-01\n",
      "  -6.74320764e-01 -1.10900856e+00 -1.37489989e+00 -1.71629957e+00\n",
      "  -6.50637018e-01 -1.08041337e+00 -7.08618226e-02 -2.75295274e-01]\n",
      " [-5.37860778e-13 -1.21151858e-05 -2.34897054e-07 -2.06566594e-03\n",
      "  -1.94571033e-03 -7.66467737e-02 -3.09964749e-01 -6.50637018e-01\n",
      "  -1.51260669e+00 -1.30790890e+00 -2.90382070e-01 -6.31325886e-01]\n",
      " [-1.18105831e-05 -1.23417943e-03 -2.06566594e-03 -3.04640626e-02\n",
      "  -7.82781452e-02 -2.89819977e-01 -6.69270617e-01 -1.08041337e+00\n",
      "  -1.30790890e+00 -1.61455088e+00 -5.73478152e-01 -9.69723130e-01]\n",
      " [-1.32995950e-16 -1.46391011e-08 -5.38139694e-13 -1.18105831e-05\n",
      "  -2.34028697e-07 -1.97458486e-03 -1.91588194e-03 -7.08618226e-02\n",
      "  -2.90382070e-01 -5.73478152e-01 -1.18698197e+00 -1.09398249e+00]\n",
      " [-1.46391010e-08 -1.91822048e-05 -1.21151858e-05 -1.23417943e-03\n",
      "  -2.08668247e-03 -2.98813560e-02 -7.72940958e-02 -2.75295274e-01\n",
      "  -6.31325886e-01 -9.69723130e-01 -1.09398249e+00 -1.30863711e+00]]\n"
     ]
    }
   ],
   "source": [
    "print(oei_ao)"
   ]
  },
  {
   "cell_type": "code",
   "execution_count": 108,
   "metadata": {},
   "outputs": [
    {
     "name": "stdout",
     "output_type": "stream",
     "text": [
      "[[-1.87432473e+00 -1.04387332e-15 -1.16409397e-01  8.92719031e-16\n",
      "  -6.15079850e-02  5.64296790e-16 -1.25731117e-01 -1.24763371e-15\n",
      "  -5.89300819e-02 -1.46224258e-16  2.71519013e-03 -7.06223980e-16]\n",
      " [-1.18650828e-15 -1.69304317e+00 -2.91895510e-16 -1.65551634e-01\n",
      "   1.02277616e-16  4.41325654e-02  2.13638452e-15 -1.00494695e-01\n",
      "  -4.81325561e-15  8.00967125e-02 -1.41605259e-15  6.99099285e-03]\n",
      " [-1.16409397e-01 -1.77265232e-16 -1.61481611e+00  1.97821568e-16\n",
      "   1.42975424e-01 -9.04862105e-16  1.99561985e-02  1.13630860e-15\n",
      "  -9.93297282e-02 -4.36044349e-15 -8.38903468e-02  1.81807366e-15]\n",
      " [ 7.35593837e-16 -1.65551634e-01  2.48908542e-16 -1.47182278e+00\n",
      "   3.41029556e-16 -1.55554532e-01 -1.46797386e-15  6.81485313e-02\n",
      "  -2.85457768e-15  1.47405321e-01 -6.31045753e-15 -4.83500512e-02]\n",
      " [-6.15079850e-02 -1.28186273e-16  1.42975424e-01  3.07483932e-16\n",
      "  -1.29158630e+00 -1.58743514e-15  5.71950545e-02  4.95828103e-15\n",
      "  -1.32456629e-01  1.46524593e-15  1.56350374e-01 -4.16227756e-15]\n",
      " [-7.60378246e-17  4.41325654e-02 -1.04955185e-15 -1.55554532e-01\n",
      "  -1.40558402e-15 -1.24806929e+00  1.58528814e-16 -1.25035349e-01\n",
      "   1.90040638e-15 -1.02022892e-01 -3.17295738e-15 -2.06045664e-01]\n",
      " [-1.25731117e-01  2.31413256e-15  1.99561985e-02 -1.51632329e-15\n",
      "   5.71950545e-02  1.23700137e-17 -5.80093413e-01 -3.91452049e-16\n",
      "  -1.60790101e-01 -6.50955742e-15 -2.49740558e-02  8.95701490e-16]\n",
      " [-1.17235436e-15 -1.00494695e-01  1.41869627e-15  6.81485313e-02\n",
      "   4.91974037e-15 -1.25035349e-01 -5.80306094e-16 -4.13964912e-01\n",
      "  -4.64885201e-15  9.28607464e-02 -5.49272337e-15 -4.59666892e-02]\n",
      " [-5.89300819e-02 -4.74411350e-15 -9.93297282e-02 -2.98357899e-15\n",
      "  -1.32456629e-01  1.79180458e-15 -1.60790101e-01 -4.53433799e-15\n",
      "  -4.68339016e-01  3.77946691e-15 -3.67277351e-02 -1.07776692e-15]\n",
      " [-1.08857116e-16  8.00967125e-02 -4.29409666e-15  1.47405321e-01\n",
      "   1.38603667e-15 -1.02022892e-01 -6.28801435e-15  9.28607464e-02\n",
      "   4.00512287e-15 -5.21989682e-01 -4.42846513e-16  3.96032256e-02]\n",
      " [ 2.71519013e-03 -1.81747002e-15 -8.38903468e-02 -6.19034249e-15\n",
      "   1.56350374e-01 -2.92960851e-15 -2.49740558e-02 -5.63012711e-15\n",
      "  -3.67277351e-02 -6.97164268e-16 -5.04870294e-01 -1.72955227e-15]\n",
      " [ 1.95685220e-16  6.99099285e-03  2.01646194e-15 -4.83500512e-02\n",
      "  -4.21974979e-15 -2.06045664e-01  8.52717609e-16 -4.59666892e-02\n",
      "  -1.02209585e-15  3.96032256e-02 -9.73491733e-16 -4.15306261e-01]]\n"
     ]
    }
   ],
   "source": [
    "print(oei_mo)"
   ]
  },
  {
   "cell_type": "code",
   "execution_count": 131,
   "metadata": {},
   "outputs": [],
   "source": [
    "# Use pyscf to get atomic integrals and compare to transformed integrals from above\n",
    "pyscf_mol = molecule._pyscf_data['mol']\n",
    "t = pyscf_mol.intor('int1e_kin')\n",
    "v = pyscf_mol.intor('int1e_nuc')\n",
    "hcore = t + v"
   ]
  },
  {
   "cell_type": "code",
   "execution_count": 132,
   "metadata": {},
   "outputs": [],
   "source": [
    "assert np.allclose(hcore, oei_ao)"
   ]
  },
  {
   "cell_type": "markdown",
   "metadata": {},
   "source": [
    " The two-electron integrals can also be acquired from the `pyscf_mol` object or we can use the `general_basis_change` to transform the two-electron integrals back into the AO basis."
   ]
  },
  {
   "cell_type": "code",
   "execution_count": 133,
   "metadata": {},
   "outputs": [],
   "source": [
    "tei_ao = general_basis_change(tei_mo, C.conj().T @ S, key=(1, 1, 0, 0))  # Transform the two-electron integrals"
   ]
  },
  {
   "cell_type": "code",
   "execution_count": 134,
   "metadata": {},
   "outputs": [],
   "source": [
    "eri_ao = np.einsum('ijkl->iklj', pyscf_mol.intor('int2e', aosym='s1'))  # re-ordering for chem->physics storage of the integrals"
   ]
  },
  {
   "cell_type": "code",
   "execution_count": 135,
   "metadata": {},
   "outputs": [],
   "source": [
    "assert np.allclose(tei_ao, eri_ao)\n",
    "assert not np.allclose(tei_ao, tei_mo)"
   ]
  },
  {
   "cell_type": "markdown",
   "metadata": {},
   "source": [
    "We also provide a function in `recirq.hfvqe.molecular_data.molecular_data_construction` that uses psi4 to generate atomic integrals for the HF-VQE study.  Once the atomic orbital integrals are obtained we can perform the first step in setting up the HF-VQE experiment.  This involes transforming the integrals to the core-orbital basis and building an `RestrictedHartreeFockObjective`. "
   ]
  },
  {
   "cell_type": "code",
   "execution_count": 136,
   "metadata": {},
   "outputs": [],
   "source": [
    "_, X = sp.linalg.eigh(oei_ao, S)  # diagonalize the AO-core Hamiltonian\n",
    "\n",
    "obi = general_basis_change(oei_ao, X, (1, 0))\n",
    "tbi = np.einsum('psqr', general_basis_change(pyscf_mol.intor('int2e', aosym='s1'), X, (1, 0, 1, 0)))\n",
    "molecular_hamiltonian = generate_hamiltonian(obi, tbi,\n",
    "                                             molecule.nuclear_repulsion)\n",
    "\n",
    "rhf_objective = RestrictedHartreeFockObjective(molecular_hamiltonian,\n",
    "                                               molecule.n_electrons)"
   ]
  },
  {
   "cell_type": "markdown",
   "metadata": {},
   "source": [
    "To get initial parameters we can simulate the Hartree-Fock experiment which is performing variational-Hartree-Fock theory."
   ]
  },
  {
   "cell_type": "code",
   "execution_count": 138,
   "metadata": {},
   "outputs": [
    {
     "name": "stdout",
     "output_type": "stream",
     "text": [
      "Optimization terminated successfully.\n",
      "         Current function value: -3.102591\n",
      "         Iterations: 12\n",
      "         Function evaluations: 25\n",
      "         Gradient evaluations: 25\n"
     ]
    }
   ],
   "source": [
    "from recirq.hfvqe.gradient_hf import rhf_minimization, rhf_func_generator\n",
    "scipy_result = rhf_minimization(rhf_objective, verbose=True)  # uses conjugate gradient to solve non-linear hartree-fock functional"
   ]
  },
  {
   "cell_type": "code",
   "execution_count": 139,
   "metadata": {},
   "outputs": [
    {
     "name": "stdout",
     "output_type": "stream",
     "text": [
      "-3.102591009910493 -3.1025910099026466\n"
     ]
    }
   ],
   "source": [
    "print(molecule.hf_energy, scipy_result.fun)"
   ]
  },
  {
   "cell_type": "code",
   "execution_count": 140,
   "metadata": {},
   "outputs": [
    {
     "name": "stdout",
     "output_type": "stream",
     "text": [
      "Initial Parameters for HF-VQE Study  [-2.38602650e-20 -4.73763008e-01 -3.58388605e-20 -1.36102259e-02\n",
      " -3.29952680e-21  4.44832962e-01  4.98042730e-21 -2.59144562e-01\n",
      " -2.05938395e-20  1.17062375e-01 -4.68386796e-21  7.61172517e-03\n",
      "  2.57166245e-20  9.47442448e-02 -3.66038306e-21 -2.71237051e-04\n",
      "  1.86395426e-20 -7.30836704e-02  3.96538974e-20 -4.10271133e-02\n",
      " -1.44611303e-20 -4.52955415e-03 -1.03127292e-20 -8.54284651e-02\n",
      " -2.01808961e-20 -4.71103578e-02 -4.88098067e-21]\n"
     ]
    }
   ],
   "source": [
    "print(\"Initial Parameters for HF-VQE Study \", scipy_result.x)"
   ]
  },
  {
   "cell_type": "code",
   "execution_count": 141,
   "metadata": {},
   "outputs": [
    {
     "data": {
      "text/plain": [
       "<matplotlib.colorbar.Colorbar at 0x7f8582b147b8>"
      ]
     },
     "execution_count": 141,
     "metadata": {},
     "output_type": "execute_result"
    },
    {
     "data": {
      "image/png": "[encoded data removed]",
      "text/plain": [
       "<Figure size 432x288 with 2 Axes>"
      ]
     },
     "metadata": {
      "needs_background": "light"
     },
     "output_type": "display_data"
    }
   ],
   "source": [
    "# Explicity build kappa matrix\n",
    "from recirq.hfvqe.circuits import rhf_params_to_matrix\n",
    "import matplotlib.pyplot as plt\n",
    "kappa = rhf_params_to_matrix(scipy_result.x, len(rhf_objective.occ) + len(rhf_objective.virt), rhf_objective.occ,\n",
    "            rhf_objective.virt)\n",
    "plt.imshow(kappa)\n",
    "plt.colorbar()"
   ]
  },
  {
   "cell_type": "code",
   "execution_count": null,
   "metadata": {},
   "outputs": [],
   "source": []
  }
 ],
 "metadata": {
  "kernelspec": {
   "display_name": "Python 3",
   "language": "python",
   "name": "python3"
  },
  "language_info": {
   "codemirror_mode": {
    "name": "ipython",
    "version": 3
   },
   "file_extension": ".py",
   "mimetype": "text/x-python",
   "name": "python",
   "nbconvert_exporter": "python",
   "pygments_lexer": "ipython3",
   "version": "3.6.12"
  }
 },
 "nbformat": 4,
 "nbformat_minor": 4
}
